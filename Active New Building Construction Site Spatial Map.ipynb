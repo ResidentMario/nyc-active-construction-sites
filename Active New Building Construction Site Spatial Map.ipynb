{
 "cells": [
  {
   "cell_type": "code",
   "execution_count": 1,
   "metadata": {
    "collapsed": false
   },
   "outputs": [],
   "source": [
    "import geopandas as gpd\n",
    "import pandas as pd\n",
    "import requests\n",
    "import zipfile\n",
    "import io\n",
    "import matplotlib.pyplot as plt\n",
    "%matplotlib inline\n",
    "pd.set_option(\"max_columns\", 500)"
   ]
  },
  {
   "cell_type": "markdown",
   "metadata": {},
   "source": [
    "Load all of the shapefiles."
   ]
  },
  {
   "cell_type": "code",
   "execution_count": 2,
   "metadata": {
    "collapsed": true
   },
   "outputs": [],
   "source": [
    "r = requests.get('http://www1.nyc.gov/assets/planning/download/zip/data-maps/open-data/bk_mappluto_16v1.zip')\n",
    "\n",
    "with zipfile.ZipFile(io.BytesIO(r.content)) as ar:\n",
    "    ar.extractall(\"data/brooklyn/\")\n",
    "del r\n",
    "\n",
    "r = requests.get('http://www1.nyc.gov/assets/planning/download/zip/data-maps/open-data/bx_mappluto_16v1.zip')\n",
    "\n",
    "with zipfile.ZipFile(io.BytesIO(r.content)) as ar:\n",
    "    ar.extractall(\"data/bronx/\")\n",
    "del r\n",
    "\n",
    "r = requests.get('http://www1.nyc.gov/assets/planning/download/zip/data-maps/open-data/mn_mappluto_16v1.zip')\n",
    "\n",
    "with zipfile.ZipFile(io.BytesIO(r.content)) as ar:\n",
    "    ar.extractall(\"data/manhattan/\")\n",
    "del r\n",
    "\n",
    "r = requests.get('http://www1.nyc.gov/assets/planning/download/zip/data-maps/open-data/qn_mappluto_16v1.zip')\n",
    "\n",
    "with zipfile.ZipFile(io.BytesIO(r.content)) as ar:\n",
    "    ar.extractall(\"data/queens/\")\n",
    "del r\n",
    "\n",
    "r = requests.get('http://www1.nyc.gov/assets/planning/download/zip/data-maps/open-data/si_mappluto_16v1.zip')\n",
    "\n",
    "with zipfile.ZipFile(io.BytesIO(r.content)) as ar:\n",
    "    ar.extractall(\"data/staten_island/\")\n",
    "del r"
   ]
  },
  {
   "cell_type": "code",
   "execution_count": 8,
   "metadata": {
    "collapsed": true
   },
   "outputs": [],
   "source": [
    "mappluto = gpd.GeoDataFrame()\n",
    "for uri, layer in [(\"data/brooklyn/\", \"BKMapPLUTO\"),\n",
    "                   (\"data/bronx/\", \"BXMapPLUTO\"),\n",
    "                   (\"data/manhattan/\", \"MNMapPLUTO\"),\n",
    "                   (\"data/queens/\", \"QNMapPLUTO\"),\n",
    "                   (\"data/staten_island/\", \"SIMapPLUTO\")]:\n",
    "    dat = gpd.read_file(uri, layer=layer)\n",
    "    mappluto = mappluto.append(dat)"
   ]
  },
  {
   "cell_type": "code",
   "execution_count": 9,
   "metadata": {
    "collapsed": false
   },
   "outputs": [
    {
     "data": {
      "text/plain": [
       "857216"
      ]
     },
     "execution_count": 9,
     "metadata": {},
     "output_type": "execute_result"
    }
   ],
   "source": [
    "len(mappluto)"
   ]
  }
 ],
 "metadata": {
  "kernelspec": {
   "display_name": "Python 3",
   "language": "python",
   "name": "python3"
  },
  "language_info": {
   "codemirror_mode": {
    "name": "ipython",
    "version": 3
   },
   "file_extension": ".py",
   "mimetype": "text/x-python",
   "name": "python",
   "nbconvert_exporter": "python",
   "pygments_lexer": "ipython3",
   "version": "3.5.2"
  }
 },
 "nbformat": 4,
 "nbformat_minor": 0
}
