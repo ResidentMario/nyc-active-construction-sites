{
 "cells": [
  {
   "cell_type": "markdown",
   "metadata": {},
   "source": [
    "# Active New Building Construction Sites\n",
    "\n",
    "## Introduction\n",
    "\n",
    "In this notebook we attempt to get a handle on data for active new building construction sites in New York City."
   ]
  },
  {
   "cell_type": "code",
   "execution_count": 1,
   "metadata": {
    "collapsed": false
   },
   "outputs": [],
   "source": [
    "import requests\n",
    "import pandas as pd\n",
    "pd.set_option(\"max_columns\", 500)\n",
    "import numpy as np\n",
    "import matplotlib.pyplot as plt\n",
    "import seaborn as sns\n",
    "%matplotlib inline\n",
    "import geopandas as gpd\n",
    "from datetime import datetime\n",
    "import co_reader"
   ]
  },
  {
   "cell_type": "markdown",
   "metadata": {},
   "source": [
    "## Download"
   ]
  },
  {
   "cell_type": "code",
   "execution_count": 2,
   "metadata": {
    "collapsed": true
   },
   "outputs": [],
   "source": [
    "def download_file(url, filename):\n",
    "    \"\"\"\n",
    "    Helper method handling downloading large files from `url` to `filename`. Returns a pointer to `filename`.\n",
    "    \"\"\"\n",
    "    r = requests.get(url, stream=True)\n",
    "    with open(filename, 'wb') as f:\n",
    "        for chunk in r.iter_content(chunk_size=1024): \n",
    "            if chunk: # filter out keep-alive new chunks\n",
    "                f.write(chunk)\n",
    "    return filename"
   ]
  },
  {
   "cell_type": "code",
   "execution_count": 3,
   "metadata": {
    "collapsed": false
   },
   "outputs": [
    {
     "name": "stderr",
     "output_type": "stream",
     "text": [
      "/Users/Honors/anaconda/envs/nyc-construction-timelines/lib/python2.7/site-packages/IPython/core/interactiveshell.py:2723: DtypeWarning: Columns (1,8,9,11,12,31,51) have mixed types. Specify dtype option on import or set low_memory=False.\n",
      "  interactivity=interactivity, compiler=compiler, result=result)\n"
     ]
    }
   ],
   "source": [
    "permits = download_file(\"https://data.cityofnewyork.us/api/views/ipu4-2q9a/rows.csv?accessType=DOWNLOAD\",\n",
    "                        \"DOB Permit Issuance.csv\")\n",
    "permits = pd.read_csv(permits)"
   ]
  },
  {
   "cell_type": "markdown",
   "metadata": {},
   "source": [
    "## Preprocessing\n",
    "\n",
    "We need to find construction permits corresponding with new building jobs which have yet to expire.\n",
    "\n",
    "We start by filtering those down and converting the issuance and expiration dates from strings to intelligent datetimes."
   ]
  },
  {
   "cell_type": "code",
   "execution_count": 4,
   "metadata": {
    "collapsed": true
   },
   "outputs": [],
   "source": [
    "nb_permits = permits[(permits['Job Type'] == 'NB') &\n",
    "                     (permits['Permit Type'] == 'NB') &\n",
    "                     (permits['Permit Status'] == 'ISSUED')]"
   ]
  },
  {
   "cell_type": "code",
   "execution_count": 5,
   "metadata": {
    "collapsed": false,
    "scrolled": true
   },
   "outputs": [
    {
     "name": "stderr",
     "output_type": "stream",
     "text": [
      "/Users/Honors/anaconda/envs/nyc-construction-timelines/lib/python2.7/site-packages/ipykernel/__main__.py:1: SettingWithCopyWarning: \n",
      "A value is trying to be set on a copy of a slice from a DataFrame.\n",
      "Try using .loc[row_indexer,col_indexer] = value instead\n",
      "\n",
      "See the caveats in the documentation: http://pandas.pydata.org/pandas-docs/stable/indexing.html#indexing-view-versus-copy\n",
      "  if __name__ == '__main__':\n",
      "/Users/Honors/anaconda/envs/nyc-construction-timelines/lib/python2.7/site-packages/ipykernel/__main__.py:2: SettingWithCopyWarning: \n",
      "A value is trying to be set on a copy of a slice from a DataFrame.\n",
      "Try using .loc[row_indexer,col_indexer] = value instead\n",
      "\n",
      "See the caveats in the documentation: http://pandas.pydata.org/pandas-docs/stable/indexing.html#indexing-view-versus-copy\n",
      "  from ipykernel import kernelapp as app\n"
     ]
    }
   ],
   "source": [
    "nb_permits['Issuance Date'] = nb_permits['Issuance Date'].map(lambda date: pd.to_datetime(date))\n",
    "nb_permits['Expiration Date'] = nb_permits['Expiration Date'].map(lambda date: pd.to_datetime(date))"
   ]
  },
  {
   "cell_type": "markdown",
   "metadata": {},
   "source": [
    "Because of technical differences in PDF link name formatting, `co_reader` requires that you pass it the DOB borough code for the building. To simplify this operation let's remap a borough code column for the entire dataset of interest, using the existing borough column."
   ]
  },
  {
   "cell_type": "code",
   "execution_count": 6,
   "metadata": {
    "collapsed": false
   },
   "outputs": [
    {
     "name": "stderr",
     "output_type": "stream",
     "text": [
      "/Users/Honors/anaconda/envs/nyc-construction-timelines/lib/python2.7/site-packages/ipykernel/__main__.py:9: SettingWithCopyWarning: \n",
      "A value is trying to be set on a copy of a slice from a DataFrame.\n",
      "Try using .loc[row_indexer,col_indexer] = value instead\n",
      "\n",
      "See the caveats in the documentation: http://pandas.pydata.org/pandas-docs/stable/indexing.html#indexing-view-versus-copy\n"
     ]
    }
   ],
   "source": [
    "borough_mapper = {\n",
    "    \"MANHATTAN\": \"M\",\n",
    "    \"BROOKLYN\": \"B\",\n",
    "    \"QUEENS\": \"Q\",\n",
    "    \"STATEN ISLAND\": \"R\",\n",
    "    \"BRONX\": \"X\"\n",
    "}\n",
    "\n",
    "nb_permits['Borough Code'] = nb_permits['BOROUGH'].map(lambda b: borough_mapper[b])"
   ]
  },
  {
   "cell_type": "markdown",
   "metadata": {},
   "source": [
    "How many new building construction permits are active right now?"
   ]
  },
  {
   "cell_type": "code",
   "execution_count": 8,
   "metadata": {
    "collapsed": true
   },
   "outputs": [],
   "source": [
    "now = pd.to_datetime(datetime.now())"
   ]
  },
  {
   "cell_type": "code",
   "execution_count": 9,
   "metadata": {
    "collapsed": false,
    "scrolled": true
   },
   "outputs": [
    {
     "data": {
      "text/plain": [
       "4961"
      ]
     },
     "execution_count": 9,
     "metadata": {},
     "output_type": "execute_result"
    }
   ],
   "source": [
    "(nb_permits['Expiration Date'] > now).astype(int).sum()"
   ]
  },
  {
   "cell_type": "code",
   "execution_count": 10,
   "metadata": {
    "collapsed": false
   },
   "outputs": [],
   "source": [
    "bins_with_nonexpired_permits = nb_permits[nb_permits['Expiration Date'] > now]['Bin #'].astype(int).unique()"
   ]
  },
  {
   "cell_type": "markdown",
   "metadata": {},
   "source": [
    "How many unique lots have currently-active new building construction permits?\n",
    "\n",
    "This filters out lots which have recieved multiple permits (reissuance etc.) which are still valid."
   ]
  },
  {
   "cell_type": "code",
   "execution_count": 11,
   "metadata": {
    "collapsed": false
   },
   "outputs": [
    {
     "data": {
      "text/plain": [
       "4083"
      ]
     },
     "execution_count": 11,
     "metadata": {},
     "output_type": "execute_result"
    }
   ],
   "source": [
    "len(bins_with_nonexpired_permits)"
   ]
  },
  {
   "cell_type": "markdown",
   "metadata": {},
   "source": [
    "We will need to start time for each of these permits, as this is what we will be comparing against in order to determine whether or not a building has finished construction. We will also need the borough code that we just generated.\n",
    "\n",
    "The loop that follows the selects and takes this information off of the most recent new building document on record&mdash;the one with the highest permit number.\n",
    "\n",
    "Even we do not filter the data this way we will recirculate each of the thousand outstanding \"additional\" permits, increasing runtime by 20%. Even though the end result would be the same, given how long certificate data reads take, this is wasteful, so it is worth the additional work of removing these explicitly beforehand."
   ]
  },
  {
   "cell_type": "code",
   "execution_count": 12,
   "metadata": {
    "collapsed": false
   },
   "outputs": [],
   "source": [
    "now = pd.to_datetime(datetime.now())"
   ]
  },
  {
   "cell_type": "code",
   "execution_count": 13,
   "metadata": {
    "collapsed": true
   },
   "outputs": [],
   "source": [
    "active_nb_permits = nb_permits[nb_permits['Expiration Date'] > now]"
   ]
  },
  {
   "cell_type": "code",
   "execution_count": 14,
   "metadata": {
    "collapsed": false
   },
   "outputs": [
    {
     "data": {
      "text/html": [
       "<div>\n",
       "<table border=\"1\" class=\"dataframe\">\n",
       "  <thead>\n",
       "    <tr style=\"text-align: right;\">\n",
       "      <th></th>\n",
       "      <th>BOROUGH</th>\n",
       "      <th>Bin #</th>\n",
       "      <th>House #</th>\n",
       "      <th>Street Name</th>\n",
       "      <th>Job #</th>\n",
       "      <th>Job doc. #</th>\n",
       "      <th>Job Type</th>\n",
       "      <th>Self_Cert</th>\n",
       "      <th>Block</th>\n",
       "      <th>Lot</th>\n",
       "      <th>Community Board</th>\n",
       "      <th>Zip Code</th>\n",
       "      <th>Bldg Type</th>\n",
       "      <th>Residential</th>\n",
       "      <th>Special District 1</th>\n",
       "      <th>Special District 2</th>\n",
       "      <th>Work Type</th>\n",
       "      <th>Permit Status</th>\n",
       "      <th>Filing Status</th>\n",
       "      <th>Permit Type</th>\n",
       "      <th>Permit Sequence #</th>\n",
       "      <th>Permit Subtype</th>\n",
       "      <th>Oil Gas</th>\n",
       "      <th>Site Fill</th>\n",
       "      <th>Filing Date</th>\n",
       "      <th>Issuance Date</th>\n",
       "      <th>Expiration Date</th>\n",
       "      <th>Job Start Date</th>\n",
       "      <th>Permittee's First Name</th>\n",
       "      <th>Permittee's Last Name</th>\n",
       "      <th>Permittee's Business Name</th>\n",
       "      <th>Permittee's Phone #</th>\n",
       "      <th>Permittee's License Type</th>\n",
       "      <th>Permittee's License #</th>\n",
       "      <th>Act as Superintendent</th>\n",
       "      <th>Permittee's Other Title</th>\n",
       "      <th>HIC License</th>\n",
       "      <th>Site Safety Mgr's First Name</th>\n",
       "      <th>Site Safety Mgr's Last Name</th>\n",
       "      <th>Site Safety Mgr Business Name</th>\n",
       "      <th>Superintendent First &amp; Last Name</th>\n",
       "      <th>Superintendent Business Name</th>\n",
       "      <th>Owner's Business Type</th>\n",
       "      <th>Non-Profit</th>\n",
       "      <th>Owner's Business Name</th>\n",
       "      <th>Owner's First Name</th>\n",
       "      <th>Owner's Last Name</th>\n",
       "      <th>Owner's House #</th>\n",
       "      <th>Owner's House Street Name</th>\n",
       "      <th>Owner’s House City</th>\n",
       "      <th>Owner’s House State</th>\n",
       "      <th>Owner’s House Zip Code</th>\n",
       "      <th>Owner's Phone #</th>\n",
       "      <th>DOBRunDate</th>\n",
       "      <th>Borough Code</th>\n",
       "    </tr>\n",
       "  </thead>\n",
       "  <tbody>\n",
       "  </tbody>\n",
       "</table>\n",
       "</div>"
      ],
      "text/plain": [
       "Empty DataFrame\n",
       "Columns: [BOROUGH, Bin #, House #, Street Name, Job #, Job doc. #, Job Type, Self_Cert, Block, Lot, Community Board, Zip Code, Bldg Type, Residential, Special District 1, Special District 2, Work Type, Permit Status, Filing Status, Permit Type, Permit Sequence #, Permit Subtype, Oil Gas, Site Fill, Filing Date, Issuance Date, Expiration Date, Job Start Date, Permittee's First Name, Permittee's Last Name, Permittee's Business Name, Permittee's Phone #, Permittee's License Type, Permittee's License #, Act as Superintendent, Permittee's Other Title, HIC License, Site Safety Mgr's First Name, Site Safety Mgr's Last Name, Site Safety Mgr Business Name, Superintendent First & Last Name, Superintendent Business Name, Owner's Business Type, Non-Profit, Owner's Business Name, Owner's First Name, Owner's Last Name, Owner's House #, Owner's House Street Name, Owner’s House City, Owner’s House State, Owner’s House Zip Code, Owner's Phone #, DOBRunDate, Borough Code]\n",
       "Index: []"
      ]
     },
     "execution_count": 14,
     "metadata": {},
     "output_type": "execute_result"
    }
   ],
   "source": [
    "active_nb_permits.head(0)"
   ]
  },
  {
   "cell_type": "code",
   "execution_count": 15,
   "metadata": {
    "collapsed": false,
    "scrolled": true
   },
   "outputs": [
    {
     "name": "stderr",
     "output_type": "stream",
     "text": [
      "/Users/Honors/anaconda/envs/nyc-construction-timelines/lib/python2.7/site-packages/ipykernel/__main__.py:2: SettingWithCopyWarning: \n",
      "A value is trying to be set on a copy of a slice from a DataFrame.\n",
      "Try using .loc[row_indexer,col_indexer] = value instead\n",
      "\n",
      "See the caveats in the documentation: http://pandas.pydata.org/pandas-docs/stable/indexing.html#indexing-view-versus-copy\n",
      "  from ipykernel import kernelapp as app\n"
     ]
    }
   ],
   "source": [
    "most_recent_docs = []\n",
    "nb_permits['Bin #'] = nb_permits['Bin #'].astype(int)\n",
    "bins_with_nonexpired_permits = nb_permits[nb_permits['Expiration Date'] > now]['Bin #'].unique()\n",
    "active_nb_permits = nb_permits[nb_permits['Expiration Date'] > now]\n",
    "\n",
    "for BIN in bins_with_nonexpired_permits:\n",
    "    docs = active_nb_permits[active_nb_permits['Bin #'] == BIN]\n",
    "    doc = docs.iloc[np.argmax(docs['Permit Sequence #'].values)]\n",
    "    most_recent_docs.append(doc)\n",
    "\n",
    "active_latest_nb_permits = pd.concat(most_recent_docs, axis=1).T"
   ]
  },
  {
   "cell_type": "code",
   "execution_count": 16,
   "metadata": {
    "collapsed": false
   },
   "outputs": [
    {
     "data": {
      "text/plain": [
       "4083"
      ]
     },
     "execution_count": 16,
     "metadata": {},
     "output_type": "execute_result"
    }
   ],
   "source": [
    "len(active_latest_nb_permits)"
   ]
  },
  {
   "cell_type": "markdown",
   "metadata": {},
   "source": [
    "That this number is exactly the same as the number of unique BINs before confirms that the routine fired successfully."
   ]
  },
  {
   "cell_type": "code",
   "execution_count": 17,
   "metadata": {
    "collapsed": false
   },
   "outputs": [],
   "source": [
    "pd.to_pickle(active_latest_nb_permits, \"Latest Active New Building Permits.p\")"
   ]
  },
  {
   "cell_type": "markdown",
   "metadata": {},
   "source": [
    "## Processing\n",
    "\n",
    "4083 Certificate of Occupancy reads will take a long time to process. This step must be handled in segments."
   ]
  },
  {
   "cell_type": "code",
   "execution_count": 2,
   "metadata": {
    "collapsed": false
   },
   "outputs": [],
   "source": [
    "active_latest_nb_permits = pd.read_pickle(\"Latest Active New Building Permits.p\")"
   ]
  },
  {
   "cell_type": "code",
   "execution_count": 5,
   "metadata": {
    "collapsed": false
   },
   "outputs": [
    {
     "data": {
      "text/html": [
       "<div>\n",
       "<table border=\"1\" class=\"dataframe\">\n",
       "  <thead>\n",
       "    <tr style=\"text-align: right;\">\n",
       "      <th></th>\n",
       "      <th>BOROUGH</th>\n",
       "      <th>Bin #</th>\n",
       "      <th>House #</th>\n",
       "      <th>Street Name</th>\n",
       "      <th>Job #</th>\n",
       "      <th>Job doc. #</th>\n",
       "      <th>Job Type</th>\n",
       "      <th>Self_Cert</th>\n",
       "      <th>Block</th>\n",
       "      <th>Lot</th>\n",
       "      <th>Community Board</th>\n",
       "      <th>Zip Code</th>\n",
       "      <th>Bldg Type</th>\n",
       "      <th>Residential</th>\n",
       "      <th>Special District 1</th>\n",
       "      <th>Special District 2</th>\n",
       "      <th>Work Type</th>\n",
       "      <th>Permit Status</th>\n",
       "      <th>Filing Status</th>\n",
       "      <th>Permit Type</th>\n",
       "      <th>Permit Sequence #</th>\n",
       "      <th>Permit Subtype</th>\n",
       "      <th>Oil Gas</th>\n",
       "      <th>Site Fill</th>\n",
       "      <th>Filing Date</th>\n",
       "      <th>Issuance Date</th>\n",
       "      <th>Expiration Date</th>\n",
       "      <th>Job Start Date</th>\n",
       "      <th>Permittee's First Name</th>\n",
       "      <th>Permittee's Last Name</th>\n",
       "      <th>Permittee's Business Name</th>\n",
       "      <th>Permittee's Phone #</th>\n",
       "      <th>Permittee's License Type</th>\n",
       "      <th>Permittee's License #</th>\n",
       "      <th>Act as Superintendent</th>\n",
       "      <th>Permittee's Other Title</th>\n",
       "      <th>HIC License</th>\n",
       "      <th>Site Safety Mgr's First Name</th>\n",
       "      <th>Site Safety Mgr's Last Name</th>\n",
       "      <th>Site Safety Mgr Business Name</th>\n",
       "      <th>Superintendent First &amp; Last Name</th>\n",
       "      <th>Superintendent Business Name</th>\n",
       "      <th>Owner's Business Type</th>\n",
       "      <th>Non-Profit</th>\n",
       "      <th>Owner's Business Name</th>\n",
       "      <th>Owner's First Name</th>\n",
       "      <th>Owner's Last Name</th>\n",
       "      <th>Owner's House #</th>\n",
       "      <th>Owner's House Street Name</th>\n",
       "      <th>Owner’s House City</th>\n",
       "      <th>Owner’s House State</th>\n",
       "      <th>Owner’s House Zip Code</th>\n",
       "      <th>Owner's Phone #</th>\n",
       "      <th>DOBRunDate</th>\n",
       "      <th>Borough Code</th>\n",
       "    </tr>\n",
       "  </thead>\n",
       "  <tbody>\n",
       "    <tr>\n",
       "      <th>566401</th>\n",
       "      <td>BROOKLYN</td>\n",
       "      <td>3034837</td>\n",
       "      <td>329</td>\n",
       "      <td>STERLING ST.</td>\n",
       "      <td>3.20708e+08</td>\n",
       "      <td>1</td>\n",
       "      <td>NB</td>\n",
       "      <td>NaN</td>\n",
       "      <td>1316</td>\n",
       "      <td>72</td>\n",
       "      <td>309</td>\n",
       "      <td>11225</td>\n",
       "      <td>2</td>\n",
       "      <td>YES</td>\n",
       "      <td>NaN</td>\n",
       "      <td>NaN</td>\n",
       "      <td></td>\n",
       "      <td>ISSUED</td>\n",
       "      <td>RENEWAL</td>\n",
       "      <td>NB</td>\n",
       "      <td>4</td>\n",
       "      <td></td>\n",
       "      <td></td>\n",
       "      <td>OFF-SITE</td>\n",
       "      <td>07/08/2016</td>\n",
       "      <td>2016-07-08 00:00:00</td>\n",
       "      <td>2016-11-25 00:00:00</td>\n",
       "      <td>07/07/2014</td>\n",
       "      <td>ZEV</td>\n",
       "      <td>CHASKELSON</td>\n",
       "      <td>HML DEVELOPMENTS LLC</td>\n",
       "      <td>7187021530</td>\n",
       "      <td>GENERAL CONTRACTOR</td>\n",
       "      <td>0613324</td>\n",
       "      <td></td>\n",
       "      <td></td>\n",
       "      <td></td>\n",
       "      <td></td>\n",
       "      <td></td>\n",
       "      <td></td>\n",
       "      <td>ZEV               CHASKELSON</td>\n",
       "      <td>ZENCO GROUP INC</td>\n",
       "      <td>PARTNERSHIP</td>\n",
       "      <td>NaN</td>\n",
       "      <td>JACQUELYN 327 LLC</td>\n",
       "      <td>AL</td>\n",
       "      <td>LIEBER</td>\n",
       "      <td>146</td>\n",
       "      <td>SPENCER STREET</td>\n",
       "      <td>BROOKLYN</td>\n",
       "      <td>NY</td>\n",
       "      <td>11205</td>\n",
       "      <td>3472274450</td>\n",
       "      <td>07/09/2016 12:00:00 AM</td>\n",
       "      <td>B</td>\n",
       "    </tr>\n",
       "  </tbody>\n",
       "</table>\n",
       "</div>"
      ],
      "text/plain": [
       "         BOROUGH    Bin #       House #                       Street Name  \\\n",
       "566401  BROOKLYN  3034837  329           STERLING ST.                       \n",
       "\n",
       "              Job # Job doc. # Job Type Self_Cert Block Lot Community Board  \\\n",
       "566401  3.20708e+08          1       NB       NaN  1316  72             309   \n",
       "\n",
       "       Zip Code Bldg Type Residential Special District 1 Special District 2  \\\n",
       "566401    11225         2         YES                NaN                NaN   \n",
       "\n",
       "       Work Type Permit Status Filing Status Permit Type Permit Sequence #  \\\n",
       "566401                  ISSUED       RENEWAL          NB                 4   \n",
       "\n",
       "       Permit Subtype Oil Gas                                 Site Fill  \\\n",
       "566401                         OFF-SITE                                   \n",
       "\n",
       "       Filing Date        Issuance Date      Expiration Date Job Start Date  \\\n",
       "566401  07/08/2016  2016-07-08 00:00:00  2016-11-25 00:00:00     07/07/2014   \n",
       "\n",
       "       Permittee's First Name Permittee's Last Name  \\\n",
       "566401        ZEV              CHASKELSON             \n",
       "\n",
       "               Permittee's Business Name Permittee's Phone #  \\\n",
       "566401  HML DEVELOPMENTS LLC                      7187021530   \n",
       "\n",
       "                        Permittee's License Type Permittee's License #  \\\n",
       "566401  GENERAL CONTRACTOR                                     0613324   \n",
       "\n",
       "       Act as Superintendent Permittee's Other Title HIC License  \\\n",
       "566401                                                             \n",
       "\n",
       "       Site Safety Mgr's First Name Site Safety Mgr's Last Name  \\\n",
       "566401                                                            \n",
       "\n",
       "           Site Safety Mgr Business Name  \\\n",
       "566401                                     \n",
       "\n",
       "              Superintendent First & Last Name  \\\n",
       "566401  ZEV               CHASKELSON             \n",
       "\n",
       "            Superintendent Business Name  \\\n",
       "566401  ZENCO GROUP INC                    \n",
       "\n",
       "                           Owner's Business Type Non-Profit  \\\n",
       "566401  PARTNERSHIP                                     NaN   \n",
       "\n",
       "                   Owner's Business Name Owner's First Name  \\\n",
       "566401  JACQUELYN 327 LLC                   AL                \n",
       "\n",
       "                     Owner's Last Name Owner's House #  \\\n",
       "566401  LIEBER                            146            \n",
       "\n",
       "               Owner's House Street Name Owner’s House City  \\\n",
       "566401  SPENCER STREET                      BROOKLYN          \n",
       "\n",
       "       Owner’s House State Owner’s House Zip Code Owner's Phone #  \\\n",
       "566401                  NY              11205          3472274450   \n",
       "\n",
       "                    DOBRunDate Borough Code  \n",
       "566401  07/09/2016 12:00:00 AM            B  "
      ]
     },
     "execution_count": 5,
     "metadata": {},
     "output_type": "execute_result"
    }
   ],
   "source": [
    "active_latest_nb_permits.head(1)"
   ]
  },
  {
   "cell_type": "code",
   "execution_count": 3,
   "metadata": {
    "collapsed": false
   },
   "outputs": [],
   "source": [
    "def latest_co_date(srs):\n",
    "    \"\"\"\n",
    "    DataFrame apply function which retrieves and stores the most recent found C/O date in the DataFrame.\n",
    "    \"\"\"\n",
    "    try:\n",
    "        return co_reader.get_co_date(srs['Bin #'], srs['Borough Code'])\n",
    "    except Exception as e:\n",
    "        print(\"WARNING: Error raised:\\n\", e)\n",
    "        return None\n",
    "\n",
    "    \n",
    "def is_active(srs):\n",
    "    \"\"\"\n",
    "    DataFrame apply function which retrieves and stores whether or not a construction site is active.\n",
    "    \n",
    "    Uses the \"Latest C/O Date\" field specified by the `latest_co_date` function above.\n",
    "    \"\"\"\n",
    "    if srs['Latest C/O Date']:\n",
    "        if srs['Latest C/O Date'].replace(tzinfo=None) > srs['Issuance Date'].replace(tzinfo=None):\n",
    "            return False\n",
    "        else:\n",
    "            return True\n",
    "    else:\n",
    "        return True"
   ]
  },
  {
   "cell_type": "markdown",
   "metadata": {},
   "source": [
    "Now we run the primary algorithm---in 100-permit segments, for runtime splitting sake.\n",
    "\n",
    "Because of the verbocity of the logging output, while this script was running I temporarily commented out the print statements in the `co_reader` script."
   ]
  },
  {
   "cell_type": "code",
   "execution_count": null,
   "metadata": {
    "collapsed": false
   },
   "outputs": [
    {
     "name": "stdout",
     "output_type": "stream",
     "text": [
      "Requested BIN 3034837 data from BIS, awaiting response...\n"
     ]
    }
   ],
   "source": [
    "active_sample_1 = active_latest_nb_permits.iloc[0:100]\n",
    "active_sample_1['Latest C/O Date'] = active_sample_1.apply(latest_co_date, axis='columns')\n",
    "active_sample_1['Active Construction Site'] = active_sample_1.apply(is_active, axis='columns')"
   ]
  },
  {
   "cell_type": "markdown",
   "metadata": {},
   "source": [
    "^ Latest."
   ]
  },
  {
   "cell_type": "code",
   "execution_count": 5,
   "metadata": {
    "collapsed": false,
    "scrolled": true
   },
   "outputs": [
    {
     "name": "stderr",
     "output_type": "stream",
     "text": [
      "/Users/Honors/anaconda/envs/nyc-construction-timelines/lib/python2.7/site-packages/ipykernel/__main__.py:2: SettingWithCopyWarning: \n",
      "A value is trying to be set on a copy of a slice from a DataFrame.\n",
      "Try using .loc[row_indexer,col_indexer] = value instead\n",
      "\n",
      "See the caveats in the documentation: http://pandas.pydata.org/pandas-docs/stable/indexing.html#indexing-view-versus-copy\n",
      "  from ipykernel import kernelapp as app\n",
      "/Users/Honors/anaconda/envs/nyc-construction-timelines/lib/python2.7/site-packages/ipykernel/__main__.py:3: SettingWithCopyWarning: \n",
      "A value is trying to be set on a copy of a slice from a DataFrame.\n",
      "Try using .loc[row_indexer,col_indexer] = value instead\n",
      "\n",
      "See the caveats in the documentation: http://pandas.pydata.org/pandas-docs/stable/indexing.html#indexing-view-versus-copy\n",
      "  app.launch_new_instance()\n"
     ]
    }
   ],
   "source": [
    "active_sample_2 = active_latest_nb_permits.iloc[100:200]\n",
    "active_sample_2['Latest C/O Date'] = active_sample_2.apply(latest_co_date, axis='columns')\n",
    "active_sample_2['Active Construction Site'] = active_sample_2.apply(is_active, axis='columns')"
   ]
  },
  {
   "cell_type": "code",
   "execution_count": 6,
   "metadata": {
    "collapsed": false,
    "scrolled": true
   },
   "outputs": [
    {
     "name": "stderr",
     "output_type": "stream",
     "text": [
      "/Users/Honors/anaconda/envs/nyc-construction-timelines/lib/python2.7/site-packages/ipykernel/__main__.py:2: SettingWithCopyWarning: \n",
      "A value is trying to be set on a copy of a slice from a DataFrame.\n",
      "Try using .loc[row_indexer,col_indexer] = value instead\n",
      "\n",
      "See the caveats in the documentation: http://pandas.pydata.org/pandas-docs/stable/indexing.html#indexing-view-versus-copy\n",
      "  from ipykernel import kernelapp as app\n",
      "/Users/Honors/anaconda/envs/nyc-construction-timelines/lib/python2.7/site-packages/ipykernel/__main__.py:3: SettingWithCopyWarning: \n",
      "A value is trying to be set on a copy of a slice from a DataFrame.\n",
      "Try using .loc[row_indexer,col_indexer] = value instead\n",
      "\n",
      "See the caveats in the documentation: http://pandas.pydata.org/pandas-docs/stable/indexing.html#indexing-view-versus-copy\n",
      "  app.launch_new_instance()\n"
     ]
    }
   ],
   "source": [
    "active_sample_3 = active_latest_nb_permits.iloc[200:300]\n",
    "active_sample_3['Latest C/O Date'] = active_sample_3.apply(latest_co_date, axis='columns')\n",
    "active_sample_3['Active Construction Site'] = active_sample_3.apply(is_active, axis='columns')"
   ]
  },
  {
   "cell_type": "code",
   "execution_count": 14,
   "metadata": {
    "collapsed": false,
    "scrolled": true
   },
   "outputs": [],
   "source": [
    "active_sample_4 = active_latest_nb_permits.iloc[300:400]\n",
    "active_sample_4['Latest C/O Date'] = active_sample_4.apply(latest_co_date, axis='columns')\n",
    "active_sample_4['Active Construction Site'] = active_sample_4"
   ]
  },
  {
   "cell_type": "code",
   "execution_count": null,
   "metadata": {
    "collapsed": true
   },
   "outputs": [],
   "source": [
    "active_sample_5 = active_latest_nb_permits.iloc[400:500]\n",
    "active_sample_5['Latest C/O Date'] = active_sample_5.apply(latest_co_date, axis='columns')\n",
    "active_sample_5['Active Construction Site'] = active_sample_5"
   ]
  },
  {
   "cell_type": "code",
   "execution_count": null,
   "metadata": {
    "collapsed": true
   },
   "outputs": [],
   "source": [
    "active_sample_6 = active_latest_nb_permits.iloc[500:600]\n",
    "active_sample_6['Latest C/O Date'] = active_sample_6.apply(latest_co_date, axis='columns')\n",
    "active_sample_6['Active Construction Site'] = active_sample_6"
   ]
  },
  {
   "cell_type": "code",
   "execution_count": null,
   "metadata": {
    "collapsed": true
   },
   "outputs": [],
   "source": [
    "active_sample_7 = active_latest_nb_permits.iloc[600:700]\n",
    "active_sample_7['Latest C/O Date'] = active_sample_7.apply(latest_co_date, axis='columns')\n",
    "active_sample_7['Active Construction Site'] = active_sample_7"
   ]
  },
  {
   "cell_type": "code",
   "execution_count": null,
   "metadata": {
    "collapsed": true
   },
   "outputs": [],
   "source": [
    "active_sample_8 = active_latest_nb_permits.iloc[700:800]\n",
    "active_sample_8['Latest C/O Date'] = active_sample_6.apply(latest_co_date, axis='columns')\n",
    "active_sample_8['Active Construction Site'] = active_sample_8"
   ]
  },
  {
   "cell_type": "code",
   "execution_count": null,
   "metadata": {
    "collapsed": true
   },
   "outputs": [],
   "source": [
    "active_sample_9 = active_latest_nb_permits.iloc[800:900]\n",
    "active_sample_9['Latest C/O Date'] = active_sample_9.apply(latest_co_date, axis='columns')\n",
    "active_sample_9['Active Construction Site'] = active_sample_9"
   ]
  },
  {
   "cell_type": "code",
   "execution_count": null,
   "metadata": {
    "collapsed": true
   },
   "outputs": [],
   "source": [
    "active_sample_10 = active_latest_nb_permits.iloc[900:1000]\n",
    "active_sample_10['Latest C/O Date'] = active_sample_10.apply(latest_co_date, axis='columns')\n",
    "active_sample_10['Active Construction Site'] = active_sample_10"
   ]
  },
  {
   "cell_type": "code",
   "execution_count": null,
   "metadata": {
    "collapsed": true
   },
   "outputs": [],
   "source": [
    "active_sample_11 = active_latest_nb_permits.iloc[1000:1100]\n",
    "active_sample_11['Latest C/O Date'] = active_sample_11.apply(latest_co_date, axis='columns')\n",
    "active_sample_11['Active Construction Site'] = active_sample_11"
   ]
  },
  {
   "cell_type": "code",
   "execution_count": null,
   "metadata": {
    "collapsed": true
   },
   "outputs": [],
   "source": [
    "active_sample_12 = active_latest_nb_permits.iloc[1100:1200]\n",
    "active_sample_12['Latest C/O Date'] = active_sample_12.apply(latest_co_date, axis='columns')\n",
    "active_sample_12['Active Construction Site'] = active_sample_12"
   ]
  },
  {
   "cell_type": "code",
   "execution_count": null,
   "metadata": {
    "collapsed": true
   },
   "outputs": [],
   "source": [
    "active_sample_13 = active_latest_nb_permits.iloc[1200:1300]\n",
    "active_sample_13['Latest C/O Date'] = active_sample_13.apply(latest_co_date, axis='columns')\n",
    "active_sample_13['Active Construction Site'] = active_sample_13"
   ]
  },
  {
   "cell_type": "code",
   "execution_count": 40,
   "metadata": {
    "collapsed": false
   },
   "outputs": [],
   "source": [
    "# active_sample_2['Latest C/O Date'] = active_sample_2.apply(latest_co_date, axis='columns')"
   ]
  }
 ],
 "metadata": {
  "kernelspec": {
   "display_name": "Python 2",
   "language": "python",
   "name": "python2"
  },
  "language_info": {
   "codemirror_mode": {
    "name": "ipython",
    "version": 2
   },
   "file_extension": ".py",
   "mimetype": "text/x-python",
   "name": "python",
   "nbconvert_exporter": "python",
   "pygments_lexer": "ipython2",
   "version": "2.7.11"
  }
 },
 "nbformat": 4,
 "nbformat_minor": 0
}
